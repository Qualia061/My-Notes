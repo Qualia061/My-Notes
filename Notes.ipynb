{
 "cells": [
  {
   "cell_type": "code",
   "execution_count": 1,
   "metadata": {
    "collapsed": true
   },
   "outputs": [],
   "source": [
    "# Notes\n",
    "\n",
    "#Some useful models\n",
    "\n",
    "#logisic regression\n",
    "#model = LogisticRegression()\n",
    "\n",
    "#Random Forests Model\n",
    "#from sklearn.ensemble import RandomForestClassifier\n",
    "#model = RandomForestClassifier(n_estimators=100)\n",
    "\n",
    "#Support Vector Machines\n",
    "#from sklearn.svm import SVC, LinearSVC\n",
    "#model = SVC()\n",
    "\n",
    "#Gradient Boosting Classifier\n",
    "#from sklearn.ensemble import GradientBoostingClassifier\n",
    "#model = GradientBoostingClassifier()\n",
    "\n",
    "#K-nearest neighbors\n",
    "#from sklearn.neighbors import KNeighborsClassifier\n",
    "#model = KNeighborsClassifier(n_neighbors = 3)\n",
    "\n",
    "#Gaussian Naive Bayes\n",
    "#from sklearn.naive_bayes import GaussianNB\n",
    "#model = GaussianNB()"
   ]
  },
  {
   "cell_type": "code",
   "execution_count": null,
   "metadata": {
    "collapsed": true
   },
   "outputs": [],
   "source": []
  }
 ],
 "metadata": {
  "kernelspec": {
   "display_name": "Python 3",
   "language": "python",
   "name": "python3"
  },
  "language_info": {
   "codemirror_mode": {
    "name": "ipython",
    "version": 3
   },
   "file_extension": ".py",
   "mimetype": "text/x-python",
   "name": "python",
   "nbconvert_exporter": "python",
   "pygments_lexer": "ipython3",
   "version": "3.6.3"
  }
 },
 "nbformat": 4,
 "nbformat_minor": 2
}
